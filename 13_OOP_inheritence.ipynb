{
 "cells": [
  {
   "cell_type": "markdown",
   "metadata": {},
   "source": [
    "# Python OOP Practice – IT-Högskolan (2025)\n",
    "\n",
    "This notebook includes a series of exercises focused on **Object-Oriented Programming (OOP)** using Python.  \n",
    "The goal of this activity is to strengthen key programming skills and apply theoretical concepts through practical implementation.  \n",
    "\n",
    "In this specific exercise, we:\n",
    "- Create a **base class** for an airplane with attributes and methods.  \n",
    "- Extend the base class by building **two subclasses** (`MilitarFlyplan` and `Passagerarflygplan`).  \n",
    "- Create a **third subclass** (`FighterAircraft`) that inherits from the military airplane class and adds specialized functionality.  \n",
    "- Use **encapsulation**, **inheritance**, and **method overriding** to model realistic airplane behaviors.  \n",
    "\n",
    "---\n",
    "\n",
    "👤 **Author:** Juan Andrade  \n",
    "🎓 AI & Machine Learning Developer Student at IT-Högskolan, Stockholm  \n",
    "📅 **Date:** October 2025\n"
   ]
  },
  {
   "cell_type": "markdown",
   "metadata": {},
   "source": [
    "Uppgift:\n",
    "\n",
    "- Skapa en huvudklass som heter Flygplan\n",
    "\n",
    "        Låt den ha minst 3 attribut samt 3 metoder (utöver init)\n",
    "\n",
    "- Skapa sedan två separata underklasser som ärver från Flygplan\n",
    "\n",
    "        Låt den en heta Militärflygplan & den andra Passagerarflygplan\n",
    "\n",
    "- Utöver ovan, skapa ytterligare en underklass till Militärflygplan, \n",
    "        \n",
    "        kalla den ex. Stridsflygplan\n",
    "\n",
    "Ni bestämmer själva hur ni ska konfigurera underklasserna men ni ska MINST uttöka deras funktionaliter relativt huvudklassen\n",
    "\n",
    "        Tips: metoderna och unika attributen som underklasserna har kanske borde vara specifika för just militär- samt passagerarflygplan"
   ]
  },
  {
   "cell_type": "code",
   "execution_count": null,
   "metadata": {},
   "outputs": [],
   "source": [
    "class Flyplan:\n",
    "    \"\"\"\n",
    "    Base class that represents a general airplane.\n",
    "\n",
    "    Attributes:\n",
    "        model (str): Name or model of the airplane.\n",
    "        capacity (int): Passenger or cargo capacity.\n",
    "        maximum_speed (int | float): Maximum speed in km/h.\n",
    "    \"\"\"\n",
    "    def __init__(self, model: str, capacity: int, maximum_speed: int|float)-> None:\n",
    "        \"\"\"\n",
    "        Initialize a new airplane with model, capacity and maximum speed.\n",
    "\n",
    "        Args:\n",
    "            model (str): Name of the airplane model.\n",
    "            capacity (int): Number of passengers or cargo capacity.\n",
    "            maximum_speed (int | float): Maximum speed of the airplane.\n",
    "\n",
    "        Raises:\n",
    "            TypeError: If values are not of the correct type.\n",
    "            ValueError: If values are less than or equal to zero.\n",
    "        \"\"\"\n",
    "        self.model = model\n",
    "        self.capacity = capacity\n",
    "        self.maximum_speed = maximum_speed\n",
    "\n",
    "    @property\n",
    "    def model(self) -> str:\n",
    "        \"\"\"Return the airplane model.\"\"\"\n",
    "        return self.__model\n",
    "\n",
    "    @model.setter\n",
    "    def model(self, value) -> None:\n",
    "        \"\"\"Validate and set the airplane model.\"\"\"\n",
    "        if not isinstance(value, str):\n",
    "            raise TypeError(\"The model must be a string\")\n",
    "        self.__model = value\n",
    "\n",
    "    @property\n",
    "    def capacity(self) -> int:\n",
    "        \"\"\"Return the capacity of the airplane.\"\"\"\n",
    "        return self.__capacity\n",
    "\n",
    "    @capacity.setter\n",
    "    def capacity(self, value) -> None:\n",
    "        \"\"\"Validate and set the capacity of the airplane.\"\"\"\n",
    "        if not isinstance(value, int):\n",
    "            raise TypeError(\"The capacity must be in numbers\")\n",
    "\n",
    "        if not value > 0:\n",
    "            raise ValueError(\"The capacity must be bigger than zero\")\n",
    "\n",
    "        self.__capacity = value\n",
    "\n",
    "    @property\n",
    "    def maximum_speed(self) -> int|float:\n",
    "        \"\"\"Return the maximum speed of the airplane.\"\"\"\n",
    "        return self.__maximum_speed\n",
    "\n",
    "    @maximum_speed.setter\n",
    "    def maximum_speed(self, value) -> None:\n",
    "        \"\"\"Validate and set the maximum speed of the airplane.\"\"\"\n",
    "        if not isinstance(value, (int|float)):\n",
    "            raise TypeError(\"The maximum speed must be in numbers\")\n",
    "\n",
    "        if not value > 0:\n",
    "            raise ValueError(\"The maximum speed must be bigger tahn zero\")\n",
    "\n",
    "        self.__maximum_speed = value\n",
    "\n",
    "    def take_off(self):\n",
    "        \"\"\"Simulate airplane takeoff.\"\"\"\n",
    "        print(f\"The airplane {self.model} is taking off...\")\n",
    "\n",
    "    def landing(self):\n",
    "        \"\"\"Simulate airplane landing.\"\"\"\n",
    "        print(f\"The plane {self.model} is landing...\")\n",
    "\n",
    "    def info(self):\n",
    "        \"\"\"Display general airplane information.\"\"\"\n",
    "        print(f\"The plane {self.model} has a capacity for {self.capacity} people and reaches a maximum speed of {self.maximum_speed} km/h\")\n",
    "\n",
    "\n",
    "    \n"
   ]
  },
  {
   "cell_type": "code",
   "execution_count": null,
   "metadata": {},
   "outputs": [
    {
     "name": "stdout",
     "output_type": "stream",
     "text": [
      "The plane boleing 747 has a capacity for 400 people and reaches a maximum speed of 950 km/h\n",
      "The airplane boleing 747 is taking off...\n",
      "The plane boleing 747 is landing...\n"
     ]
    }
   ],
   "source": [
    "# Creating and testing objects\n",
    "airplane_1 = Flyplan('boleing 747', 400, 950)\n",
    "\n",
    "airplane_1.info()\n",
    "airplane_1.take_off()\n",
    "airplane_1.landing()"
   ]
  },
  {
   "cell_type": "code",
   "execution_count": null,
   "metadata": {},
   "outputs": [],
   "source": [
    "class MilitarFlyplan(Flyplan):\n",
    "    \"\"\"\n",
    "    Subclass representing a military airplane.\n",
    "\n",
    "    Attributes:\n",
    "        arms (list): List of weapons equipped on the aircraft.\n",
    "    \"\"\"\n",
    "    def __init__(self, model: str, capacity: int, maximum_speed: int|float, arms: list)-> None:\n",
    "        \"\"\"\n",
    "        Initialize a military airplane with additional weaponry.\n",
    "\n",
    "        Args:\n",
    "            model (str): Name of the airplane model.\n",
    "            capacity (int): Number of passengers or crew.\n",
    "            maximum_speed (int | float): Maximum speed of the airplane.\n",
    "            arms (list): Weapons equipped.\n",
    "        \"\"\"\n",
    "        super().__init__(model, capacity, maximum_speed)\n",
    "        self.arms = arms \n",
    "\n",
    "    def defense(self):\n",
    "        \"\"\"Activate the defense system of the aircraft.\"\"\"\n",
    "        print(f\"The aircraft {self.model} has activated its defense system\")\n",
    "\n",
    "    def show_arms(self):\n",
    "        \"\"\"Display the list of weapons equipped on the aircraft.\"\"\"\n",
    "        print(f\"The plane {self.model} is equipped with {self.arms}\")"
   ]
  },
  {
   "cell_type": "code",
   "execution_count": null,
   "metadata": {},
   "outputs": [
    {
     "name": "stdout",
     "output_type": "stream",
     "text": [
      "The plane F-18 has a capacity for 2 people and reaches a maximum speed of 2400 km/h\n",
      "The aircraft F-18 has activated its defense system\n",
      "The plane F-18 is equipped with ['machine gun', 'missiles']\n"
     ]
    }
   ],
   "source": [
    "# Object test for military airplane\n",
    "avion2 = MilitarFlyplan(\"F-18\", 2, 2400, [\"machine gun\", \"missiles\"])\n",
    "avion2.info()\n",
    "avion2.defense()\n",
    "avion2.show_arms()\n",
    "\n"
   ]
  },
  {
   "cell_type": "code",
   "execution_count": null,
   "metadata": {},
   "outputs": [],
   "source": [
    "class Passagerarflygplan(Flyplan):\n",
    "    \"\"\"\n",
    "    Subclass representing a passenger airplane.\n",
    "\n",
    "    Attributes:\n",
    "        airline (str): Name of the airline company.\n",
    "    \"\"\"\n",
    "    def __init__(self, model: str, capacity: int, maximum_speed: int|float, airline: str)-> None:\n",
    "        \"\"\"\n",
    "        Initialize a passenger airplane with airline name.\n",
    "\n",
    "        Args:\n",
    "            model (str): Name of the airplane model.\n",
    "            capacity (int): Number of passengers.\n",
    "            maximum_speed (int | float): Maximum speed of the airplane.\n",
    "            airline (str): Airline company name.\n",
    "        \"\"\"\n",
    "        super().__init__(model, capacity, maximum_speed)\n",
    "        self.airline = airline\n",
    "\n",
    "    def info(self):\n",
    "        \"\"\"Display information specific to passenger airplanes.\"\"\"\n",
    "        print(f\"The plane {self.model} belongs to the airline {self.airline}\")\n",
    "        "
   ]
  },
  {
   "cell_type": "code",
   "execution_count": null,
   "metadata": {},
   "outputs": [
    {
     "name": "stdout",
     "output_type": "stream",
     "text": [
      "The plane Boeing 737 is landing...\n",
      "The plane Boeing 737 belongs to the airline Iberia\n"
     ]
    }
   ],
   "source": [
    "# Object test for passenger airplane\n",
    "avion1 = Passagerarflygplan(\"Boeing 737\", 180, 850, \"Iberia\")\n",
    "avion1.landing()\n",
    "avion1.info()\n"
   ]
  },
  {
   "cell_type": "code",
   "execution_count": null,
   "metadata": {},
   "outputs": [],
   "source": [
    "class FighterAircraft(MilitarFlyplan):\n",
    "    \"\"\"\n",
    "    Subclass representing a fighter aircraft.\n",
    "\n",
    "    Attributes:\n",
    "        missiles (int): Number of missiles available.\n",
    "    \"\"\"\n",
    "    def __init__(self, model: str, capacity: int, maximum_speed: int|float, arms: list, missiles: int)-> None:\n",
    "        \"\"\"\n",
    "        Initialize a fighter aircraft with missile count.\n",
    "\n",
    "        Args:\n",
    "            model (str): Name of the airplane model.\n",
    "            capacity (int): Number of passengers or crew.\n",
    "            maximum_speed (int | float): Maximum speed of the airplane.\n",
    "            arms (list): Weapons equipped.\n",
    "            missiles (int): Initial missile count.\n",
    "        \"\"\"\n",
    "        super().__init__(model, capacity, maximum_speed, arms)\n",
    "        self.missiles = missiles\n",
    "\n",
    "    def attack(self):\n",
    "        \"\"\"Launch a missile if available, otherwise display an empty message.\"\"\"\n",
    "        if self.missiles > 0:\n",
    "            self.missiles -= 1\n",
    "            print(f\"Fighter aircraft {self.model} launched a missile. Missiles remaining: {self.missiles}.\")\n",
    "        else:\n",
    "            print(f\"There are no more missiles on the fighter jet {self.model}.\")"
   ]
  },
  {
   "cell_type": "code",
   "execution_count": null,
   "metadata": {},
   "outputs": [
    {
     "name": "stdout",
     "output_type": "stream",
     "text": [
      "The plane F-22 Raptor has a capacity for 1 people and reaches a maximum speed of 2600 km/h\n",
      "Fighter aircraft F-22 Raptor launched a missile. Missiles remaining: 2.\n",
      "Fighter aircraft F-22 Raptor launched a missile. Missiles remaining: 1.\n",
      "Fighter aircraft F-22 Raptor launched a missile. Missiles remaining: 0.\n",
      "There are no more missiles on the fighter jet F-22 Raptor.\n"
     ]
    }
   ],
   "source": [
    "# Object test for fighter aircraft\n",
    "avion3 = FighterAircraft(\"F-22 Raptor\", 1, 2600, [\"machine gun\", \"missiles\"], missiles=3)\n",
    "avion3.info()\n",
    "avion3.attack()\n",
    "avion3.attack()\n",
    "avion3.attack()\n",
    "avion3.attack()"
   ]
  },
  {
   "cell_type": "markdown",
   "metadata": {},
   "source": [
    "---\n",
    "\n",
    "#  Learning Outcomes\n",
    "\n",
    "By completing this exercise, I strengthened the following core skills:\n",
    "\n",
    "- Understanding and applying **OOP concepts** in Python.  \n",
    "- Using **class inheritance** to extend functionality in subclasses.  \n",
    "- Applying **encapsulation** with property getters and setters.  \n",
    "- Overriding methods to add specific behaviors.  \n",
    "- Designing clean, structured, and professional Python code suitable for a portfolio.  \n",
    "\n",
    "---\n",
    "\n",
    " *This exercise is part of my ongoing studies in Object-Oriented Programming at IT-Högskolan (2025).*\n"
   ]
  },
  {
   "cell_type": "markdown",
   "metadata": {},
   "source": []
  }
 ],
 "metadata": {
  "kernelspec": {
   "display_name": "Python 3",
   "language": "python",
   "name": "python3"
  },
  "language_info": {
   "codemirror_mode": {
    "name": "ipython",
    "version": 3
   },
   "file_extension": ".py",
   "mimetype": "text/x-python",
   "name": "python",
   "nbconvert_exporter": "python",
   "pygments_lexer": "ipython3",
   "version": "3.13.7"
  }
 },
 "nbformat": 4,
 "nbformat_minor": 2
}
